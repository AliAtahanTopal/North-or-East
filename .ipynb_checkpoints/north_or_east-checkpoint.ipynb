{
 "cells": [
  {
   "cell_type": "code",
   "execution_count": 1,
   "metadata": {},
   "outputs": [],
   "source": [
    "import numpy as np\n",
    "import random\n",
    "import re"
   ]
  },
  {
   "cell_type": "code",
   "execution_count": 2,
   "metadata": {},
   "outputs": [],
   "source": [
    "class Game:\n",
    "    def __init__(self):\n",
    "        self.initialize_gameboard()\n",
    "        \n",
    "    def initialize_gameboard(self):\n",
    "        N = int(input('Enter the N number'))\n",
    "        self.N = N\n",
    "        print('Generating', N, 'x', N, 'gameboard..')\n",
    "        gameboard = np.zeros((N,N))\n",
    "        gameboard = np.where(gameboard == 0, '.', gameboard)\n",
    "        gameboard[-1][0] = 'P' #initializin the pawn for the start of the game\n",
    "        for i in range(N - 1):\n",
    "            row = random.randint(-2,2)\n",
    "            column = random.randint(-2,2)\n",
    "            gameboard[0, i] = row \n",
    "            gameboard[i+1, -1] = column\n",
    "        print(N, 'x', N, 'gameboard generated.')   \n",
    "        self.gameboard = gameboard\n",
    "        self.turn = 'P1' #Player 1 always plays first \n",
    "        \n",
    "    def is_end(self):             \n",
    "        for i in range(self.N):\n",
    "            if self.gameboard[0][i].find(\"P:\") != -1:\n",
    "                tmp = self.gameboard.copy()    \n",
    "                if (int((tmp[0, i])[2:]) > 0):\n",
    "                    self.result = 'P1'\n",
    "                elif int((tmp[0, i])[2:]) < 0:\n",
    "                    self.result = 'P2'\n",
    "                else:\n",
    "                    self.result = 'D'\n",
    "                return True\n",
    "            elif self.gameboard[i][-1].find(\"P:\") != -1:\n",
    "                tmp = self.gameboard.copy()\n",
    "                if int((tmp[i, -1])[2:]) > 0:\n",
    "                    self.result = 'P1'\n",
    "                elif int((tmp[i, -1])[2:]) < 0:\n",
    "                    self.result = 'P2'\n",
    "                else:\n",
    "                    self.result = 'D'\n",
    "                return True                \n",
    "        return False\n",
    "    \n",
    "    def maximum(self):\n",
    "        #possible values -1, 0, 1\n",
    "        #loss, draw, win        \n",
    "        maxv = -2        \n",
    "        px = None\n",
    "        py = None\n",
    "        direction = \"\"\n",
    "        \n",
    "        is_end = self.is_end()\n",
    "        \n",
    "        if is_end == True:\n",
    "            if self.result == 'P1':\n",
    "                return (-1, direction)\n",
    "            elif self.result == 'P2':\n",
    "                return (1, direction)\n",
    "            else:\n",
    "                return (0, direction)\n",
    "            \n",
    "        tmp = self.gameboard.copy()\n",
    "        self.move_north()\n",
    "        nminv, ndirection = self.minimum()\n",
    "        self.gameboard = tmp\n",
    "        self.move_east()\n",
    "        eminv, edirection = self.minimum()\n",
    "        if nminv >= eminv:\n",
    "            maxv = nminv\n",
    "            direction = 'north'\n",
    "        elif eminv > nminv:\n",
    "            maxv = eminv\n",
    "            direction = 'east'\n",
    "        \n",
    "        self.gameboard = tmp\n",
    "        return maxv, direction\n",
    "    \n",
    "    def minimum(self):\n",
    "        #possible values -1, 0, 1\n",
    "        #loss, draw, win  \n",
    "        minv = 2\n",
    "        direction = \"\"\n",
    "        px = None\n",
    "        py = None\n",
    "        \n",
    "        is_end = self.is_end()\n",
    "        \n",
    "        if is_end == True:\n",
    "            if self.result == 'P1':\n",
    "                return (-1, direction)\n",
    "            elif self.result == 'P2':\n",
    "                return (1, direction)\n",
    "            else:\n",
    "                return (0, direction)\n",
    "            \n",
    "        tmp = self.gameboard.copy()\n",
    "        self.move_north()\n",
    "        nmaxv, ndirection = self.maximum()\n",
    "        self.gameboard = tmp\n",
    "        self.move_east()\n",
    "        emaxv, edirection = self.maximum()\n",
    "        if emaxv >= nmaxv:\n",
    "            minv = nmaxv\n",
    "            direction = 'north'\n",
    "        elif nmaxv > emaxv:\n",
    "            minv = emaxv\n",
    "            direction = 'east'\n",
    "        \n",
    "        self.gameboard = tmp\n",
    "        return minv, direction      \n",
    "\n",
    "    def move_north(self):\n",
    "        tmp = self.gameboard.copy()    \n",
    "        x, y = np.where(tmp == 'P')\n",
    "        is_end = self.is_end()\n",
    "        \n",
    "        if is_end == False:\n",
    "            if x == 1:                \n",
    "                tmp[x[0], y[0]] = '.'                                    \n",
    "                tmp[x[0]-1, y[0]] = 'P:' + str(tmp[x[0]-1, y[0]])             \n",
    "            else:\n",
    "                tmp[x[0], y[0]] = '.'\n",
    "                tmp[x[0]-1, y[0]] = 'P'\n",
    "        self.gameboard = tmp\n",
    "\n",
    "    def move_east(self):\n",
    "        tmp = self.gameboard.copy()\n",
    "        x, y = np.where(tmp == 'P')\n",
    "        is_end = self.is_end()\n",
    "        \n",
    "        if is_end == False:\n",
    "            if y == (self.N - 2):\n",
    "                tmp[x[0], y[0]] = '.'            \n",
    "                tmp[x[0], y[0] + 1] = 'P:' + str(tmp[x[0], y[0] + 1]) \n",
    "            else:\n",
    "                tmp[x[0], y[0]] = '.'\n",
    "                tmp[x[0], y[0] + 1] = 'P'\n",
    "        self.gameboard = tmp\n",
    "\n",
    "    def draw_board(self):\n",
    "        for i in range(0, self.N):\n",
    "            for j in range(0, self.N):\n",
    "                print('|{}'.format(self.gameboard[i][j]), end=\"\")\n",
    "            print()\n",
    "        print()       \n",
    "\n",
    "    def play(self):\n",
    "            while True:\n",
    "                self.draw_board()\n",
    "                is_end = self.is_end()\n",
    "        \n",
    "                if is_end == True:\n",
    "                    if self.result == 'P1':\n",
    "                        print('Player 1 wins!!')\n",
    "                    elif self.result == 'P2':\n",
    "                        print('Player 2 wins!!')\n",
    "                    else:\n",
    "                        print(\"It's a draw.\")\n",
    "                    break\n",
    "                \n",
    "                if self.turn == 'P1':\n",
    "                    move = input('Which way to move? North, East, Pass or Exit.')\n",
    "                    if move.lower() == 'north':\n",
    "                        self.move_north()\n",
    "                        self.turn = 'P2'\n",
    "                    elif move.lower() == 'east':\n",
    "                        self.move_east()\n",
    "                        self.turn = 'P2'\n",
    "                    elif move.lower() == 'pass':\n",
    "                        self.turn = 'P2'\n",
    "                    elif move.lower() == 'exit':\n",
    "                        break\n",
    "                    else:\n",
    "                        print('Invalid move.')\n",
    "                else:\n",
    "                    m, direction = self.maximum()\n",
    "                    print('Player 2 moved the pawn to ', direction)\n",
    "                    if direction == 'north':\n",
    "                        self.move_north()\n",
    "                        self.turn = 'P1'\n",
    "                    #elif direction == 'east':\n",
    "                    else:\n",
    "                        self.move_east()\n",
    "                        self.turn = 'P1'                    "
   ]
  },
  {
   "cell_type": "code",
   "execution_count": 3,
   "metadata": {},
   "outputs": [
    {
     "name": "stdin",
     "output_type": "stream",
     "text": [
      "Enter the N number 5\n"
     ]
    },
    {
     "name": "stdout",
     "output_type": "stream",
     "text": [
      "Generating 5 x 5 gameboard..\n",
      "5 x 5 gameboard generated.\n",
      "|-1|-1|1|-1|.\n",
      "|.|.|.|.|0\n",
      "|.|.|.|.|1\n",
      "|.|.|.|.|-1\n",
      "|P|.|.|.|0\n",
      "\n"
     ]
    },
    {
     "name": "stdin",
     "output_type": "stream",
     "text": [
      "Which way to move? North, East, Pass or Exit. north\n"
     ]
    },
    {
     "name": "stdout",
     "output_type": "stream",
     "text": [
      "|-1|-1|1|-1|.\n",
      "|.|.|.|.|0\n",
      "|.|.|.|.|1\n",
      "|P|.|.|.|-1\n",
      "|.|.|.|.|0\n",
      "\n",
      "Player 2 moved the pawn to  north\n",
      "|-1|-1|1|-1|.\n",
      "|.|.|.|.|0\n",
      "|P|.|.|.|1\n",
      "|.|.|.|.|-1\n",
      "|.|.|.|.|0\n",
      "\n"
     ]
    },
    {
     "name": "stdin",
     "output_type": "stream",
     "text": [
      "Which way to move? North, East, Pass or Exit. east\n"
     ]
    },
    {
     "name": "stdout",
     "output_type": "stream",
     "text": [
      "|-1|-1|1|-1|.\n",
      "|.|.|.|.|0\n",
      "|.|P|.|.|1\n",
      "|.|.|.|.|-1\n",
      "|.|.|.|.|0\n",
      "\n",
      "Player 2 moved the pawn to  north\n",
      "|-1|-1|1|-1|.\n",
      "|.|P|.|.|0\n",
      "|.|.|.|.|1\n",
      "|.|.|.|.|-1\n",
      "|.|.|.|.|0\n",
      "\n"
     ]
    },
    {
     "name": "stdin",
     "output_type": "stream",
     "text": [
      "Which way to move? North, East, Pass or Exit. east\n"
     ]
    },
    {
     "name": "stdout",
     "output_type": "stream",
     "text": [
      "|-1|-1|1|-1|.\n",
      "|.|.|P|.|0\n",
      "|.|.|.|.|1\n",
      "|.|.|.|.|-1\n",
      "|.|.|.|.|0\n",
      "\n",
      "Player 2 moved the pawn to  east\n",
      "|-1|-1|1|-1|.\n",
      "|.|.|.|P|0\n",
      "|.|.|.|.|1\n",
      "|.|.|.|.|-1\n",
      "|.|.|.|.|0\n",
      "\n"
     ]
    },
    {
     "name": "stdin",
     "output_type": "stream",
     "text": [
      "Which way to move? North, East, Pass or Exit. east\n"
     ]
    },
    {
     "name": "stdout",
     "output_type": "stream",
     "text": [
      "|-1|-1|1|-1|.\n",
      "|.|.|.|.|P:0\n",
      "|.|.|.|.|1\n",
      "|.|.|.|.|-1\n",
      "|.|.|.|.|0\n",
      "\n",
      "It's a draw.\n"
     ]
    },
    {
     "name": "stdin",
     "output_type": "stream",
     "text": [
      "Do you want to play again? y/n n\n"
     ]
    }
   ],
   "source": [
    "def main():\n",
    "    while True:\n",
    "        g = Game()\n",
    "        g.play()\n",
    "        x = input('Do you want to play again? y/n')\n",
    "        if x.lower() == 'n':\n",
    "            break\n",
    "\n",
    "if __name__ == \"__main__\":\n",
    "    main()"
   ]
  },
  {
   "cell_type": "markdown",
   "metadata": {},
   "source": [
    "With calling maximum in minimum and minimum in maximum with is end method at the start I determine that when the game ends with is end method I give a value to the current board for solving the gametree. When the game ends the current board gets one of the three values that I mentioned at the start of the two methods and determine the direction that should pawn be moved. Continiously calling the min and max methods inside of each other and solving the tree with each possible move helps determining the next move that the AI will make. With this code every N should be solveable but when N increases the solving time will increase aswell. I only tried with N = 10 as the max number and with N = 10 it takes about 5-10 seconds for calculating each move. "
   ]
  },
  {
   "cell_type": "markdown",
   "metadata": {},
   "source": [
    "The codes are not copied from any site or resource but I looked at the linked site for solving tictactoe with minimax and adapted the code to the zero sum game that we need to create an agent for. \n",
    "\n",
    "Linked site: https://stackabuse.com/minimax-and-alpha-beta-pruning-in-python/"
   ]
  }
 ],
 "metadata": {
  "kernelspec": {
   "display_name": "Python 3",
   "language": "python",
   "name": "python3"
  },
  "language_info": {
   "codemirror_mode": {
    "name": "ipython",
    "version": 3
   },
   "file_extension": ".py",
   "mimetype": "text/x-python",
   "name": "python",
   "nbconvert_exporter": "python",
   "pygments_lexer": "ipython3",
   "version": "3.8.5"
  }
 },
 "nbformat": 4,
 "nbformat_minor": 4
}
